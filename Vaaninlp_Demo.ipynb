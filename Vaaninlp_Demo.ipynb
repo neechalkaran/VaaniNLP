{
  "nbformat": 4,
  "nbformat_minor": 0,
  "metadata": {
    "colab": {
      "name": "Vaaninlp Demo.ipynb",
      "provenance": [],
      "authorship_tag": "ABX9TyOczcsJaJuK/Au5yiEgFQyk",
      "include_colab_link": true
    },
    "kernelspec": {
      "name": "python3",
      "display_name": "Python 3"
    },
    "language_info": {
      "name": "python"
    }
  },
  "cells": [
    {
      "cell_type": "markdown",
      "metadata": {
        "id": "view-in-github",
        "colab_type": "text"
      },
      "source": [
        "<a href=\"https://colab.research.google.com/github/neechalkaran/VaaniNLP/blob/main/Vaaninlp_Demo.ipynb\" target=\"_parent\"><img src=\"https://colab.research.google.com/assets/colab-badge.svg\" alt=\"Open In Colab\"/></a>"
      ]
    },
    {
      "cell_type": "code",
      "source": [
        "#VaaniNLP is a Natural Language Processing Library in Tamil\n",
        "#Developed by Neechalkaran. neechalkaran@gmail.com More Tools at https://oss.neechalkaran.com/works\n",
        "\n",
        "\n",
        "#install Vaani NLP\n",
        "!pip install vaaninlp"
      ],
      "metadata": {
        "id": "H_dQ6z1_8Wv0",
        "colab": {
          "base_uri": "https://localhost:8080/"
        },
        "outputId": "23f0acf3-ebce-430b-833a-35beab24d007"
      },
      "execution_count": 1,
      "outputs": [
        {
          "output_type": "stream",
          "name": "stdout",
          "text": [
            "Collecting vaaninlp\n",
            "  Downloading VaaniNLP-0.0.1-py3-none-any.whl (5.0 kB)\n",
            "Installing collected packages: vaaninlp\n",
            "Successfully installed vaaninlp-0.0.1\n"
          ]
        }
      ]
    },
    {
      "cell_type": "code",
      "source": [
        "\n",
        "from tamil import vaaninlp\n",
        "\n",
        "#To get Tamil letters\n",
        "ezhuthu = vaaninlp.char_tokenize(\"ஆதிபகவன் முகற்றே உலகு\")\n",
        "print(ezhuthu) \n",
        "\n",
        "#To get Tamil Tokens\n",
        "sol = vaaninlp.word_tokenize(\"ஆதிபகவன் முகற்றே உலகு\")\n",
        "print(sol)\n",
        "\n",
        "#To remove stop words\n",
        "input=\"இந்த அருமையான ஜிகர்தண்டா பிடித்திருக்கிறது. ஆனால் குளிர்பானம் குடிக்கமாட்டேன்\"\n",
        "sorkal = vaaninlp.word_tokenize(input)\n",
        "print(vaaninlp.remove_stopwords(sorkal))\n",
        "\n",
        "#To do Tamil alphabetical sorting\n",
        "print(vaaninlp.sort(sorkal))\n",
        "print(sorted(sorkal))#normal sorting"
      ],
      "metadata": {
        "colab": {
          "base_uri": "https://localhost:8080/"
        },
        "id": "24gOSPHLbCfY",
        "outputId": "9f5ad9cc-0703-472a-822e-a96863e4d279"
      },
      "execution_count": null,
      "outputs": [
        {
          "output_type": "stream",
          "name": "stdout",
          "text": [
            "['ஆ', 'தி', 'ப', 'க', 'வ', 'ன்', 'மு', 'க', 'ற்', 'றே', 'உ', 'ல', 'கு']\n",
            "['ஆதிபகவன்', 'முகற்றே', 'உலகு']\n",
            "['அருமையான', 'ஜிகர்தண்டா', 'பிடித்திருக்கிறது', 'குளிர்பானம்', 'குடிக்கமாட்டேன்']\n",
            "['அருமையான', 'ஆனால்', 'இந்த', 'குடிக்கமாட்டேன்', 'குளிர்பானம்', 'பிடித்திருக்கிறது', 'ஜிகர்தண்டா']\n",
            "['அருமையான', 'ஆனால்', 'இந்த', 'குடிக்கமாட்டேன்', 'குளிர்பானம்', 'ஜிகர்தண்டா', 'பிடித்திருக்கிறது']\n"
          ]
        }
      ]
    },
    {
      "cell_type": "code",
      "source": [
        "#To spell check the sentence\n",
        "input=\"அவருக்கு தெரியாமல் அனுமதிக் கிடையாது என்றுச் சொல்லுங்கள்\"\n",
        "API_key=\"\"#API_key allows advanced results. to get API_key contact the developer.\n",
        "sol = vaaninlp.word_tokenize(input, API_key)\n",
        "result= vaaninlp.spellcheck(sol)\n",
        "for i in range(len(result)):\n",
        "  if(result[i][\"Flag\"]==False):\n",
        "    print(result[i][\"Userword\"] +\" ❌ - \"+ result[i][\"Suggestions\"]+ \" ✅\")\n",
        "    \n",
        "\n"
      ],
      "metadata": {
        "colab": {
          "base_uri": "https://localhost:8080/"
        },
        "id": "wSLC45JriZbi",
        "outputId": "0b1246fa-4ee8-41c9-b627-06644e62b32c"
      },
      "execution_count": null,
      "outputs": [
        {
          "output_type": "stream",
          "name": "stdout",
          "text": [
            "அவருக்கு ❌ - அவருக்குத் ✅\n",
            "என்றுச் ❌ - என்று ✅\n"
          ]
        }
      ]
    },
    {
      "cell_type": "code",
      "source": [
        "#உருபனியல் பிரிப்பு    \n",
        "result= vaaninlp.lemmatize(sol)\n",
        "for i in range(len(result)):\n",
        "  if(result[i][\"Flag\"]==True):\n",
        "     print(result[i][\"Userword\"]+\" ->  \"+ \",\".join( list(dict.fromkeys(result[i][\"RootWords\"]))))\n",
        "  else:\n",
        "    print(result[i][\"Userword\"]+\" ->  <தெரியவில்லை>\")"
      ],
      "metadata": {
        "colab": {
          "base_uri": "https://localhost:8080/"
        },
        "id": "A93wbr5Fpl-A",
        "outputId": "ec07346d-fa77-4720-d270-969610276b4d"
      },
      "execution_count": null,
      "outputs": [
        {
          "output_type": "stream",
          "name": "stdout",
          "text": [
            "அவருக்கு ->  அவர்\n",
            "தெரியாமல் ->  தெரி\n",
            "அனுமதிக் ->  அனுமதி\n",
            "கிடையாது ->  கிடையாது,கிடை\n",
            "என்றுச் ->  என்று,என்(னு)\n",
            "சொல்லுங்கள் ->  சொல்\n"
          ]
        }
      ]
    },
    {
      "cell_type": "code",
      "source": [
        "#உருபனியல் சேர்ப்பு\n",
        "print(vaaninlp.delemmatize(\"பழம்\",\"கு\"))\n",
        "vikuthikal =[\"கள்\",\"ஐ\",\"ஆல்\",\"கு\", \"அது\",\"ஓடு\",\"இன்\",\"இடம்\",\"இடை\",\"இல்\",\"உடன்\",\"ஆக\"]\n",
        "versol =\"செம்மண்\"\n",
        "for i in range(len(vikuthikal)):\n",
        "  print(versol + \"+\" + vikuthikal[i] + \" = \" + vaaninlp.delemmatize(versol,vikuthikal[i]))"
      ],
      "metadata": {
        "colab": {
          "base_uri": "https://localhost:8080/"
        },
        "id": "j-hbCcxNoe2-",
        "outputId": "d18c9e96-3d93-4feb-907d-fc7159c29259"
      },
      "execution_count": null,
      "outputs": [
        {
          "output_type": "stream",
          "name": "stdout",
          "text": [
            "பழத்துக்கு\n",
            "செம்மண்+கள் = செம்மண்கள்\n",
            "செம்மண்+ஐ = செம்மண்ணை\n",
            "செம்மண்+ஆல் = செம்மண்ணால்\n",
            "செம்மண்+கு = செம்மண்ணுக்கு\n",
            "செம்மண்+அது = செம்மண்ணது\n",
            "செம்மண்+ஓடு = செம்மண்ணோடு\n",
            "செம்மண்+இன் = செம்மண்ணின்\n",
            "செம்மண்+இடம் = செம்மண்ணிடம்\n",
            "செம்மண்+இடை = செம்மண்ணிடை\n",
            "செம்மண்+இல் = செம்மண்ணில்\n",
            "செம்மண்+உடன் = செம்மண்ணுடன்\n",
            "செம்மண்+ஆக = செம்மண்ணாக\n"
          ]
        }
      ]
    }
  ]
}
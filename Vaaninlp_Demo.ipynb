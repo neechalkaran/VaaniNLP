{
  "nbformat": 4,
  "nbformat_minor": 0,
  "metadata": {
    "colab": {
      "provenance": []
    },
    "kernelspec": {
      "name": "python3",
      "display_name": "Python 3"
    },
    "language_info": {
      "name": "python"
    }
  },
  "cells": [
    {
      "cell_type": "code",
      "source": [
        "#VaaniNLP is a Natural Language Processing Library in Tamil\n",
        "#Developed by Neechalkaran. neechalkaran@gmail.com More Tools at https://oss.neechalkaran.com/works\n",
        "\n",
        "\n",
        "#install Vaani NLP\n",
        "!pip install vaaninlp"
      ],
      "metadata": {
        "id": "H_dQ6z1_8Wv0",
        "colab": {
          "base_uri": "https://localhost:8080/"
        },
        "outputId": "b50fb9a7-d247-42d6-db43-a1599f0e7ab9"
      },
      "execution_count": 1,
      "outputs": [
        {
          "output_type": "stream",
          "name": "stdout",
          "text": [
            "Looking in indexes: https://pypi.org/simple, https://us-python.pkg.dev/colab-wheels/public/simple/\n",
            "Collecting vaaninlp\n",
            "  Downloading VaaniNLP-0.0.5-py3-none-any.whl (7.0 kB)\n",
            "Installing collected packages: vaaninlp\n",
            "Successfully installed vaaninlp-0.0.5\n"
          ]
        }
      ]
    },
    {
      "cell_type": "code",
      "source": [
        "\n",
        "from tamil import vaaninlp\n",
        "\n",
        "#To get Tamil letters\n",
        "ezhuthu = vaaninlp.char_tokenize(\"ஆதிபகவன் முகற்றே உலகு\")\n",
        "print(ezhuthu) \n"
      ],
      "metadata": {
        "colab": {
          "base_uri": "https://localhost:8080/"
        },
        "id": "24gOSPHLbCfY",
        "outputId": "1321fd6b-ba84-4503-ecc8-c0eb8aa56b49"
      },
      "execution_count": 2,
      "outputs": [
        {
          "output_type": "stream",
          "name": "stdout",
          "text": [
            "['ஆ', 'தி', 'ப', 'க', 'வ', 'ன்', 'மு', 'க', 'ற்', 'றே', 'உ', 'ல', 'கு']\n"
          ]
        }
      ]
    },
    {
      "cell_type": "code",
      "source": [
        "\n",
        "#To get Tamil Tokens\n",
        "sol = vaaninlp.word_tokenize(\"ஆதிபகவன் முகற்றே உலகு\")\n",
        "print(sol)\n"
      ],
      "metadata": {
        "colab": {
          "base_uri": "https://localhost:8080/"
        },
        "id": "xz-uhZIFapXr",
        "outputId": "3075d2aa-3c9d-4361-da8f-0e4ceb511bd0"
      },
      "execution_count": 3,
      "outputs": [
        {
          "output_type": "stream",
          "name": "stdout",
          "text": [
            "['ஆதிபகவன்', 'முகற்றே', 'உலகு']\n"
          ]
        }
      ]
    },
    {
      "cell_type": "code",
      "source": [
        "\n",
        "#To remove stop words\n",
        "input=\"இந்த அருமையான ஜிகர்தண்டா பிடித்திருக்கிறது. ஆனால் குளிர்பானம் குடிக்கமாட்டேன்\"\n",
        "sorkal = vaaninlp.word_tokenize(input)\n",
        "print(vaaninlp.remove_stopwords(sorkal))\n"
      ],
      "metadata": {
        "colab": {
          "base_uri": "https://localhost:8080/"
        },
        "id": "Y3-8wIbvarbM",
        "outputId": "4270fb89-9c9f-4ee3-beab-1f12beb547e1"
      },
      "execution_count": 4,
      "outputs": [
        {
          "output_type": "stream",
          "name": "stdout",
          "text": [
            "['அருமையான', 'ஜிகர்தண்டா', 'பிடித்திருக்கிறது', 'குளிர்பானம்', 'குடிக்கமாட்டேன்']\n"
          ]
        }
      ]
    },
    {
      "cell_type": "code",
      "source": [
        "#To do Tamil alphabetical sorting\n",
        "print(vaaninlp.sort(sorkal))\n",
        "print(sorted(sorkal))#normal sorting"
      ],
      "metadata": {
        "colab": {
          "base_uri": "https://localhost:8080/"
        },
        "id": "9Ii37fGhavVN",
        "outputId": "b3b369f1-68eb-409d-b3b4-ac9c65b4aa23"
      },
      "execution_count": 5,
      "outputs": [
        {
          "output_type": "stream",
          "name": "stdout",
          "text": [
            "['அருமையான', 'ஆனால்', 'இந்த', 'குடிக்கமாட்டேன்', 'குளிர்பானம்', 'பிடித்திருக்கிறது', 'ஜிகர்தண்டா']\n",
            "['அருமையான', 'ஆனால்', 'இந்த', 'குடிக்கமாட்டேன்', 'குளிர்பானம்', 'ஜிகர்தண்டா', 'பிடித்திருக்கிறது']\n"
          ]
        }
      ]
    },
    {
      "cell_type": "code",
      "source": [
        "#To spell check the sentence\n",
        "input=\"அவருக்கு தெரியாமல் அனுமதிக் கிடையாது என்றுச் சொல்லுங்கள்\"\n",
        "API_key=\"\"#API_key allows advanced results. get API_key from vaanieditor.com\n",
        "sol = vaaninlp.word_tokenize(input)\n",
        "result= vaaninlp.spellcheck(sol, API_key)\n",
        "for i in range(len(result)):\n",
        "  if(result[i][\"Flag\"]==False):\n",
        "    print(result[i][\"Userword\"] +\" ❌ - \"+ result[i][\"Suggestions\"]+ \" ✅\")"
      ],
      "metadata": {
        "colab": {
          "base_uri": "https://localhost:8080/"
        },
        "id": "wSLC45JriZbi",
        "outputId": "3611a1f9-3792-4eea-b05f-ee9971703f9f"
      },
      "execution_count": 6,
      "outputs": [
        {
          "output_type": "stream",
          "name": "stdout",
          "text": [
            "அவருக்கு ❌ - அவருக்குத் ✅\n",
            "என்றுச் ❌ - என்று ✅\n"
          ]
        }
      ]
    },
    {
      "cell_type": "code",
      "source": [
        "#பெயர் பொருள் சுட்டுதல்\n",
        "sol=vaaninlp.word_tokenize(\"சமூக வலைதளங்களில் வரும் போலி விளம்பரங்களை நம்பி ஏமாற வேண்டாம் என மாவட்ட ஆட்சியர் தெரிவித்துள்ளார்\")\n",
        "print(vaaninlp.get_entities(sol))"
      ],
      "metadata": {
        "colab": {
          "base_uri": "https://localhost:8080/"
        },
        "id": "uhr3JD6Pf94u",
        "outputId": "b2fdc995-3f1f-47da-c5ef-b49e2d5342fa"
      },
      "execution_count": 7,
      "outputs": [
        {
          "output_type": "stream",
          "name": "stdout",
          "text": [
            "['சமூக வலைத்தளம்', 'போலி', 'விளம்பரம்', 'நம்பி', 'மாவட்ட ஆட்சியர்']\n"
          ]
        }
      ]
    },
    {
      "cell_type": "code",
      "source": [
        "#தமிழில் தேதி\n",
        "\n",
        "print(vaaninlp.date_string(\"2004-02-12T15:19:21+00:00\"))\n",
        "print(vaaninlp.date_string(\"Thu, 21 Dec 2000 16:01:07 +0200\"))\n",
        "print(vaaninlp.date_string(\"2022-11-07\"))"
      ],
      "metadata": {
        "colab": {
          "base_uri": "https://localhost:8080/"
        },
        "id": "qbROTAKoi46w",
        "outputId": "cec31395-677d-4f93-d3a7-70641e259823"
      },
      "execution_count": 8,
      "outputs": [
        {
          "output_type": "stream",
          "name": "stdout",
          "text": [
            "2004 பிப்ரவரி 12\n",
            "2000 டிசம்பர் 21\n",
            "2022 நவம்பர் 7\n"
          ]
        }
      ]
    },
    {
      "cell_type": "code",
      "source": [
        "#உருபனியல் பிரிப்பு    \n",
        "sol=vaaninlp.word_tokenize(\"பறவைகளின் கூடுகளில் கூடுகளில் முட்டைகள் இருக்கலாம்\")\n",
        "result= vaaninlp.lemmatize(sol)\n",
        "for i in range(len(result)):\n",
        "  if(result[i][\"Flag\"]==True):\n",
        "     print(result[i][\"Userword\"]+\" ->  \"+ \",\".join( list(dict.fromkeys(result[i][\"RootWords\"]))))\n",
        "  else:\n",
        "    print(result[i][\"Userword\"]+\" ->  <தெரியவில்லை>\")"
      ],
      "metadata": {
        "colab": {
          "base_uri": "https://localhost:8080/"
        },
        "id": "A93wbr5Fpl-A",
        "outputId": "23dfc6ec-deac-4d72-a911-87877b50b803"
      },
      "execution_count": 9,
      "outputs": [
        {
          "output_type": "stream",
          "name": "stdout",
          "text": [
            "பறவைகளின் ->  பறவை\n",
            "கூடுகளில் ->  கூடு\n",
            "கூடுகளில் ->  கூடு\n",
            "முட்டைகள் ->  முட்டை\n",
            "இருக்கலாம் ->  இரு\n"
          ]
        }
      ]
    },
    {
      "cell_type": "code",
      "source": [
        "#உருபனியல் சேர்ப்பு\n",
        "print(vaaninlp.delemmatize(\"பழம்\",\"கு\"))\n",
        "vikuthikal =[\"கள்\",\"ஐ\",\"ஆல்\",\"கு\", \"அது\",\"ஓடு\",\"இன்\",\"இடம்\",\"இடை\",\"இல்\",\"உடன்\",\"ஆக\"]\n",
        "versol =\"செம்மண்\"\n",
        "for i in range(len(vikuthikal)):\n",
        "  print(versol + \"+\" + vikuthikal[i] + \" = \" + vaaninlp.delemmatize(versol,vikuthikal[i]))"
      ],
      "metadata": {
        "colab": {
          "base_uri": "https://localhost:8080/"
        },
        "id": "j-hbCcxNoe2-",
        "outputId": "1d79fd40-de99-49ea-cdc1-101f872da356"
      },
      "execution_count": null,
      "outputs": [
        {
          "output_type": "stream",
          "name": "stdout",
          "text": [
            "பழத்துக்கு\n",
            "செம்மண்+கள் = செம்மண்கள்\n",
            "செம்மண்+ஐ = செம்மண்ணை\n",
            "செம்மண்+ஆல் = செம்மண்ணால்\n",
            "செம்மண்+கு = செம்மண்ணுக்கு\n",
            "செம்மண்+அது = செம்மண்ணது\n",
            "செம்மண்+ஓடு = செம்மண்ணோடு\n",
            "செம்மண்+இன் = செம்மண்ணின்\n",
            "செம்மண்+இடம் = செம்மண்ணிடம்\n",
            "செம்மண்+இடை = செம்மண்ணிடை\n",
            "செம்மண்+இல் = செம்மண்ணில்\n",
            "செம்மண்+உடன் = செம்மண்ணுடன்\n",
            "செம்மண்+ஆக = செம்மண்ணாக\n"
          ]
        }
      ]
    },
    {
      "cell_type": "code",
      "source": [
        "#ngram\n",
        "print(vaaninlp.char_ngram(\"கோரிக்கையில் செய்திக்குறிப்பு\",1))\n",
        "print(vaaninlp.char_ngram(\"கோரிக்கையில் குறிப்பிட்ட வகையில் வெளியிட்டுவிட்டதால் செய்திக்குறிப்பு\",2))\n",
        "print(vaaninlp.char_ngram(\"கோரிக்கையில் குறிப்பிட்ட வகையில் வெளியிட்டுவிட்டதால் செய்திக்குறிப்பு\",3))"
      ],
      "metadata": {
        "colab": {
          "base_uri": "https://localhost:8080/"
        },
        "id": "pGwW3iKrEvet",
        "outputId": "b62f8de6-47ee-4fcf-8fe9-92a86d0cbe35"
      },
      "execution_count": null,
      "outputs": [
        {
          "output_type": "stream",
          "name": "stdout",
          "text": [
            "['கோ', 'ரி', 'க்', 'கை', 'யி', 'ல்', 'செ', 'ய்', 'தி', 'க்', 'கு', 'றி', 'ப்', 'பு']\n",
            "['கோரி', 'ரிக்', 'க்கை', 'கையி', 'யில்', 'குறி', 'றிப்', 'ப்பி', 'பிட்', 'ட்ட', 'வகை', 'கையி', 'யில்', 'வெளி', 'ளியி', 'யிட்', 'ட்டு', 'டுவி', 'விட்', 'ட்ட', 'டதா', 'தால்', 'செய்', 'ய்தி', 'திக்', 'க்கு', 'குறி', 'றிப்', 'ப்பு']\n",
            "['கோரிக்', 'ரிக்கை', 'க்கையி', 'கையில்', 'குறிப்', 'றிப்பி', 'ப்பிட்', 'பிட்ட', 'வகையி', 'கையில்', 'வெளியி', 'ளியிட்', 'யிட்டு', 'ட்டுவி', 'டுவிட்', 'விட்ட', 'ட்டதா', 'டதால்', 'செய்தி', 'ய்திக்', 'திக்கு', 'க்குறி', 'குறிப்', 'றிப்பு']\n"
          ]
        }
      ]
    },
    {
      "cell_type": "code",
      "source": [
        "#அசை பிரித்தல்.    நேர் = |    நிறை = ‖\n",
        "input=\"அகர முதல எழுத்தெல்லாம்\"\n",
        "print(vaaninlp.convert_prosody(input))\n"
      ],
      "metadata": {
        "colab": {
          "base_uri": "https://localhost:8080/"
        },
        "id": "NrTN7BU44CK9",
        "outputId": "e3a52250-f57a-4ace-8116-6494be74d44d"
      },
      "execution_count": 11,
      "outputs": [
        {
          "output_type": "stream",
          "name": "stdout",
          "text": [
            "‖| ‖| ‖||\n"
          ]
        }
      ]
    },
    {
      "cell_type": "code",
      "source": [
        "#unicode cleanup\n",
        "print(vaaninlp.unicode_clean(\"ஆங்க ிலம்\"))\n",
        "print(vaaninlp.unicode_clean(\"நகா்\"))\n",
        "print(vaaninlp.unicode_clean(\"துாக்கம்\"))"
      ],
      "metadata": {
        "colab": {
          "base_uri": "https://localhost:8080/"
        },
        "id": "941mx7Ms5bBD",
        "outputId": "7dbe99fb-61b3-47fc-aca7-3ef0601f532a"
      },
      "execution_count": 14,
      "outputs": [
        {
          "output_type": "stream",
          "name": "stdout",
          "text": [
            "ஆங்கிலம்\n",
            "நகர்\n",
            "தூக்கம்\n"
          ]
        }
      ]
    }
  ]
}
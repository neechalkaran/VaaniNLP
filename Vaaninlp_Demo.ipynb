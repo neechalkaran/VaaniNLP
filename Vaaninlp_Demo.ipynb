{
  "nbformat": 4,
  "nbformat_minor": 0,
  "metadata": {
    "colab": {
      "provenance": []
    },
    "kernelspec": {
      "name": "python3",
      "display_name": "Python 3"
    },
    "language_info": {
      "name": "python"
    }
  },
  "cells": [
    {
      "cell_type": "code",
      "source": [
        "#VaaniNLP is a Natural Language Processing Library in Tamil\n",
        "#Developed by Neechalkaran. neechalkaran@gmail.com More Tools at https://oss.neechalkaran.com/works\n",
        "\n",
        "\n",
        "#install Vaani NLP\n",
        "!pip install vaaninlp"
      ],
      "metadata": {
        "id": "H_dQ6z1_8Wv0",
        "colab": {
          "base_uri": "https://localhost:8080/"
        },
        "outputId": "5385e41a-85e4-4dcf-89bd-aa0563f32323"
      },
      "execution_count": 1,
      "outputs": [
        {
          "output_type": "stream",
          "name": "stdout",
          "text": [
            "Looking in indexes: https://pypi.org/simple, https://us-python.pkg.dev/colab-wheels/public/simple/\n",
            "Collecting vaaninlp\n",
            "  Downloading VaaniNLP-0.0.4-py3-none-any.whl (5.5 kB)\n",
            "Installing collected packages: vaaninlp\n",
            "Successfully installed vaaninlp-0.0.4\n"
          ]
        }
      ]
    },
    {
      "cell_type": "code",
      "source": [
        "\n",
        "from tamil import vaaninlp\n",
        "\n",
        "#To get Tamil letters\n",
        "ezhuthu = vaaninlp.char_tokenize(\"ஆதிபகவன் முகற்றே உலகு\")\n",
        "print(ezhuthu) \n"
      ],
      "metadata": {
        "colab": {
          "base_uri": "https://localhost:8080/"
        },
        "id": "24gOSPHLbCfY",
        "outputId": "77ab88ab-4147-4972-d21e-63d762d78509"
      },
      "execution_count": 2,
      "outputs": [
        {
          "output_type": "stream",
          "name": "stdout",
          "text": [
            "['ஆ', 'தி', 'ப', 'க', 'வ', 'ன்', 'மு', 'க', 'ற்', 'றே', 'உ', 'ல', 'கு']\n"
          ]
        }
      ]
    },
    {
      "cell_type": "code",
      "source": [
        "\n",
        "#To get Tamil Tokens\n",
        "sol = vaaninlp.word_tokenize(\"ஆதிபகவன் முகற்றே உலகு\")\n",
        "print(sol)\n"
      ],
      "metadata": {
        "colab": {
          "base_uri": "https://localhost:8080/"
        },
        "id": "xz-uhZIFapXr",
        "outputId": "4a9b2cfd-542b-46cb-d4d9-4b07c9c74717"
      },
      "execution_count": 3,
      "outputs": [
        {
          "output_type": "stream",
          "name": "stdout",
          "text": [
            "['ஆதிபகவன்', 'முகற்றே', 'உலகு']\n"
          ]
        }
      ]
    },
    {
      "cell_type": "code",
      "source": [
        "\n",
        "#To remove stop words\n",
        "input=\"இந்த அருமையான ஜிகர்தண்டா பிடித்திருக்கிறது. ஆனால் குளிர்பானம் குடிக்கமாட்டேன்\"\n",
        "sorkal = vaaninlp.word_tokenize(input)\n",
        "print(vaaninlp.remove_stopwords(sorkal))\n"
      ],
      "metadata": {
        "colab": {
          "base_uri": "https://localhost:8080/"
        },
        "id": "Y3-8wIbvarbM",
        "outputId": "ca76deb7-d321-49d3-cfe1-a577fe35c69c"
      },
      "execution_count": 5,
      "outputs": [
        {
          "output_type": "stream",
          "name": "stdout",
          "text": [
            "['அருமையான', 'ஜிகர்தண்டா', 'பிடித்திருக்கிறது', 'குளிர்பானம்', 'குடிக்கமாட்டேன்']\n"
          ]
        }
      ]
    },
    {
      "cell_type": "code",
      "source": [
        "#To do Tamil alphabetical sorting\n",
        "print(vaaninlp.sort(sorkal))\n",
        "print(sorted(sorkal))#normal sorting"
      ],
      "metadata": {
        "colab": {
          "base_uri": "https://localhost:8080/"
        },
        "id": "9Ii37fGhavVN",
        "outputId": "b571aa9c-3366-4e9d-db59-484f74ef5e05"
      },
      "execution_count": 6,
      "outputs": [
        {
          "output_type": "stream",
          "name": "stdout",
          "text": [
            "['அருமையான', 'ஆனால்', 'இந்த', 'குடிக்கமாட்டேன்', 'குளிர்பானம்', 'பிடித்திருக்கிறது', 'ஜிகர்தண்டா']\n",
            "['அருமையான', 'ஆனால்', 'இந்த', 'குடிக்கமாட்டேன்', 'குளிர்பானம்', 'ஜிகர்தண்டா', 'பிடித்திருக்கிறது']\n"
          ]
        }
      ]
    },
    {
      "cell_type": "code",
      "source": [
        "#To spell check the sentence\n",
        "input=\"அவருக்கு தெரியாமல் அனுமதிக் கிடையாது என்றுச் சொல்லுங்கள்\"\n",
        "API_key=\"\"#API_key allows advanced results. get API_key from developer\n",
        "sol = vaaninlp.word_tokenize(input)\n",
        "result= vaaninlp.spellcheck(sol, API_key)\n",
        "for i in range(len(result)):\n",
        "  if(result[i][\"Flag\"]==False):\n",
        "    print(result[i][\"Userword\"] +\" ❌ - \"+ result[i][\"Suggestions\"]+ \" ✅\")"
      ],
      "metadata": {
        "colab": {
          "base_uri": "https://localhost:8080/"
        },
        "id": "wSLC45JriZbi",
        "outputId": "056ea44b-abc5-4cb3-f719-b4f8974ca59c"
      },
      "execution_count": 17,
      "outputs": [
        {
          "output_type": "stream",
          "name": "stdout",
          "text": [
            "அவருக்கு ❌ - அவருக்குத் ✅\n",
            "என்றுச் ❌ - என்று ✅\n"
          ]
        }
      ]
    },
    {
      "cell_type": "code",
      "source": [
        "#பெயர் பொருள் சுட்டுதல்\n",
        "sol=vaaninlp.word_tokenize(\"சமூக வலைதளங்களில் வரும் போலி விளம்பரங்களை நம்பி ஏமாற வேண்டாம் என மாவட்ட ஆட்சியர் தெரிவித்துள்ளார்\")\n",
        "print(vaaninlp.get_entities(sol))"
      ],
      "metadata": {
        "colab": {
          "base_uri": "https://localhost:8080/"
        },
        "id": "uhr3JD6Pf94u",
        "outputId": "956642eb-659a-4833-fae5-c7b66fe89c0d"
      },
      "execution_count": 9,
      "outputs": [
        {
          "output_type": "stream",
          "name": "stdout",
          "text": [
            "['சமூக வலைத்தளம்', 'போலி', 'விளம்பரம்', 'நம்பி', 'மாவட்ட ஆட்சியர்']\n"
          ]
        }
      ]
    },
    {
      "cell_type": "code",
      "source": [
        "#தமிழில் தேதி\n",
        "\n",
        "print(vaaninlp.date_string(\"2004-02-12T15:19:21+00:00\"))\n",
        "print(vaaninlp.date_string(\"Thu, 21 Dec 2000 16:01:07 +0200\"))\n",
        "print(vaaninlp.date_string(\"2022-11-07\"))"
      ],
      "metadata": {
        "colab": {
          "base_uri": "https://localhost:8080/"
        },
        "id": "qbROTAKoi46w",
        "outputId": "78fbc718-6b0d-4e43-edb6-02992dc87f21"
      },
      "execution_count": 15,
      "outputs": [
        {
          "output_type": "stream",
          "name": "stdout",
          "text": [
            "2004 பிப்ரவரி 12\n",
            "2000 டிசம்பர் 21\n",
            "2022 நவம்பர் 7\n"
          ]
        }
      ]
    },
    {
      "cell_type": "code",
      "source": [
        "#உருபனியல் பிரிப்பு    \n",
        "sol=vaaninlp.word_tokenize(\"பறவைகளின் கூடுகளில் கூடுகளில் முட்டைகள் இருக்கலாம்\")\n",
        "result= vaaninlp.lemmatize(sol)\n",
        "for i in range(len(result)):\n",
        "  if(result[i][\"Flag\"]==True):\n",
        "     print(result[i][\"Userword\"]+\" ->  \"+ \",\".join( list(dict.fromkeys(result[i][\"RootWords\"]))))\n",
        "  else:\n",
        "    print(result[i][\"Userword\"]+\" ->  <தெரியவில்லை>\")"
      ],
      "metadata": {
        "colab": {
          "base_uri": "https://localhost:8080/"
        },
        "id": "A93wbr5Fpl-A",
        "outputId": "b48c18fa-b58d-41d5-9143-41d41e57465d"
      },
      "execution_count": 7,
      "outputs": [
        {
          "output_type": "stream",
          "name": "stdout",
          "text": [
            "பறவைகளின் ->  பறவை\n",
            "கூடுகளில் ->  கூடு\n",
            "கூடுகளில் ->  கூடு\n",
            "முட்டைகள் ->  முட்டை\n",
            "இருக்கலாம் ->  இரு\n"
          ]
        }
      ]
    },
    {
      "cell_type": "code",
      "source": [
        "#உருபனியல் சேர்ப்பு\n",
        "print(vaaninlp.delemmatize(\"பழம்\",\"கு\"))\n",
        "vikuthikal =[\"கள்\",\"ஐ\",\"ஆல்\",\"கு\", \"அது\",\"ஓடு\",\"இன்\",\"இடம்\",\"இடை\",\"இல்\",\"உடன்\",\"ஆக\"]\n",
        "versol =\"செம்மண்\"\n",
        "for i in range(len(vikuthikal)):\n",
        "  print(versol + \"+\" + vikuthikal[i] + \" = \" + vaaninlp.delemmatize(versol,vikuthikal[i]))"
      ],
      "metadata": {
        "colab": {
          "base_uri": "https://localhost:8080/"
        },
        "id": "j-hbCcxNoe2-",
        "outputId": "1d79fd40-de99-49ea-cdc1-101f872da356"
      },
      "execution_count": null,
      "outputs": [
        {
          "output_type": "stream",
          "name": "stdout",
          "text": [
            "பழத்துக்கு\n",
            "செம்மண்+கள் = செம்மண்கள்\n",
            "செம்மண்+ஐ = செம்மண்ணை\n",
            "செம்மண்+ஆல் = செம்மண்ணால்\n",
            "செம்மண்+கு = செம்மண்ணுக்கு\n",
            "செம்மண்+அது = செம்மண்ணது\n",
            "செம்மண்+ஓடு = செம்மண்ணோடு\n",
            "செம்மண்+இன் = செம்மண்ணின்\n",
            "செம்மண்+இடம் = செம்மண்ணிடம்\n",
            "செம்மண்+இடை = செம்மண்ணிடை\n",
            "செம்மண்+இல் = செம்மண்ணில்\n",
            "செம்மண்+உடன் = செம்மண்ணுடன்\n",
            "செம்மண்+ஆக = செம்மண்ணாக\n"
          ]
        }
      ]
    },
    {
      "cell_type": "code",
      "source": [
        "#ngram\n",
        "print(vaaninlp.char_ngram(\"கோரிக்கையில் செய்திக்குறிப்பு\",1))\n",
        "print(vaaninlp.char_ngram(\"கோரிக்கையில் குறிப்பிட்ட வகையில் வெளியிட்டுவிட்டதால் செய்திக்குறிப்பு\",2))\n",
        "print(vaaninlp.char_ngram(\"கோரிக்கையில் குறிப்பிட்ட வகையில் வெளியிட்டுவிட்டதால் செய்திக்குறிப்பு\",3))"
      ],
      "metadata": {
        "colab": {
          "base_uri": "https://localhost:8080/"
        },
        "id": "pGwW3iKrEvet",
        "outputId": "b62f8de6-47ee-4fcf-8fe9-92a86d0cbe35"
      },
      "execution_count": null,
      "outputs": [
        {
          "output_type": "stream",
          "name": "stdout",
          "text": [
            "['கோ', 'ரி', 'க்', 'கை', 'யி', 'ல்', 'செ', 'ய்', 'தி', 'க்', 'கு', 'றி', 'ப்', 'பு']\n",
            "['கோரி', 'ரிக்', 'க்கை', 'கையி', 'யில்', 'குறி', 'றிப்', 'ப்பி', 'பிட்', 'ட்ட', 'வகை', 'கையி', 'யில்', 'வெளி', 'ளியி', 'யிட்', 'ட்டு', 'டுவி', 'விட்', 'ட்ட', 'டதா', 'தால்', 'செய்', 'ய்தி', 'திக்', 'க்கு', 'குறி', 'றிப்', 'ப்பு']\n",
            "['கோரிக்', 'ரிக்கை', 'க்கையி', 'கையில்', 'குறிப்', 'றிப்பி', 'ப்பிட்', 'பிட்ட', 'வகையி', 'கையில்', 'வெளியி', 'ளியிட்', 'யிட்டு', 'ட்டுவி', 'டுவிட்', 'விட்ட', 'ட்டதா', 'டதால்', 'செய்தி', 'ய்திக்', 'திக்கு', 'க்குறி', 'குறிப்', 'றிப்பு']\n"
          ]
        }
      ]
    }
  ]
}